{
 "cells": [
  {
   "cell_type": "code",
   "execution_count": null,
   "metadata": {},
   "outputs": [],
   "source": [
    "import numpy as np\n",
    "import os\n",
    "\n",
    "# My own imports\n",
    "from helper import *\n",
    "from Classes.Seq2Seq import Seq2Seq\n",
    "from Classes.TokenizerWrap import TokenizerWrap\n",
    "\n",
    "# Keras imports\n",
    "from keras.optimizers import RMSprop\n",
    "from keras.callbacks import *\n",
    "\n",
    "# Get necessary parameters\n",
    "from Config import *"
   ]
  },
  {
   "cell_type": "code",
   "execution_count": null,
   "metadata": {},
   "outputs": [],
   "source": [
    "class TestCallback(Callback):\n",
    "    def __init__(self, src, dest, num_predictions=5):\n",
    "        super(TestCallback, self).__init__()\n",
    "        self.src = src\n",
    "        self.dest = dest\n",
    "        self.num_predictions = 5 if num_predictions < len(src) else len(src)\n",
    "\n",
    "    def on_epoch_end(self, epoch, logs=None):\n",
    "        print('\\n')\n",
    "        pairs = [[src_seq, dest_seq] for src_seq, dest_seq in zip(self.src, self.dest)]\n",
    "\n",
    "        random_valid_pairs = random.sample(pairs, k=self.num_predictions)\n",
    "        for pairs in random_valid_pairs:\n",
    "            src_seq = pairs[0]\n",
    "            dest_seq = pairs[1]\n",
    "\n",
    "            prediction = s2s.predict_greedy(str(src_seq))\n",
    "            helper.print_prediction(src_seq, prediction, dest_seq)\n",
    "        print('\\n')\n",
    "\n",
    "try:\n",
    "    # Load data for validation\n",
    "    valid_src = collect.get_data_nmt_dataset(VALIDATION_SRC)\n",
    "    valid_dest = collect.get_data_nmt_dataset(VALIDATION_DEST)\n",
    "except FileNotFoundError:\n",
    "    print(\"No validation set in your directory...\")\n",
    "\n",
    "    # If no validation found, we initialized our own text\n",
    "    valid_src = [\"thank you very much\", \"i like her\"]\n",
    "    valid_dest = [\"cảm ơn rất nhiều\", \"tôi thích cô ấy\"]"
   ]
  },
  {
   "cell_type": "code",
   "execution_count": null,
   "metadata": {},
   "outputs": [],
   "source": [
    "data_src = collect.get_data_nmt_dataset(DATASET_SRC)\n",
    "data_dest = collect.get_data_nmt_dataset(DATASET_DEST, start=START_WORD, end=END_WORD)\n",
    "\n",
    "tokenizer_src = TokenizerWrap(texts=data_src, padding='pre', reverse=True, num_words=NUM_WORDS, max_tokens=SEQ_LEN)\n",
    "tokenizer_dest = TokenizerWrap(texts=data_dest, padding='post', reverse=False, num_words=NUM_WORDS, max_tokens=SEQ_LEN)\n",
    "\n",
    "encoder_input_data = tokenizer_src.tokens_padded\n",
    "decoder_output_data = tokenizer_dest.tokens_padded\n",
    "\n",
    "# Trainning data\n",
    "x_train = encoder_input_data\n",
    "y_train = decoder_output_data\n",
    "\n",
    "print(\"Input shape: {}\".format(x_train.shape))\n",
    "print(\"Output shape: {}\".format(y_train.shape))\n",
    "\n",
    "# Initialize our model\n",
    "s2s = Seq2Seq(tokenizer_src, tokenizer_dest, START_WORD, END_WORD)\n",
    "s2s.build(NUM_WORDS, EMBEDDING_SIZE, STATE_SIZE, LAYERS, DROPOUT_RATE)\n",
    "s2s.compile('rmsprop')"
   ]
  },
  {
   "cell_type": "code",
   "execution_count": null,
   "metadata": {},
   "outputs": [],
   "source": [
    "# Inference\n",
    "# Set some dummy example\n",
    "x_dummy = [\"thank you very much\", \"i like her\"]\n",
    "y_dummy = [\"cảm ơn rất nhiều\", \"tôi thích cô ấy\"]\n",
    "for input_text, actual_text in zip(x_dummy, y_dummy):\n",
    "    predict_text = s2s.predict_greedy(str(input_text))\n",
    "    helper.print_prediction(input_text, predict_text, actual_text)\n",
    "print('\\n')"
   ]
  }
 ],
 "metadata": {
  "kernelspec": {
   "display_name": "Keras & Tensorflow",
   "language": "python",
   "name": "car"
  },
  "language_info": {
   "codemirror_mode": {
    "name": "ipython",
    "version": 3
   },
   "file_extension": ".py",
   "mimetype": "text/x-python",
   "name": "python",
   "nbconvert_exporter": "python",
   "pygments_lexer": "ipython3",
   "version": "3.6.2"
  }
 },
 "nbformat": 4,
 "nbformat_minor": 2
}
